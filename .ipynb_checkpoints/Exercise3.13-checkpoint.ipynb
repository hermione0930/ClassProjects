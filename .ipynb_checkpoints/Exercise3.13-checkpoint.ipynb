{
 "cells": [
  {
   "cell_type": "code",
   "execution_count": 13,
   "metadata": {
    "collapsed": true
   },
   "outputs": [],
   "source": [
    "\n",
    "import numpy as np\n",
    "import matplotlib.pyplot as plt\n",
    "import pandas as pd\n",
    "import math"
   ]
  },
  {
   "cell_type": "code",
   "execution_count": 14,
   "metadata": {
    "collapsed": true
   },
   "outputs": [],
   "source": [
    "def sigmoid(inX):  #sigmoid\n",
    "    sigmoid = 1/(1+math.exp(-inX))\n",
    "    return sigmoid"
   ]
  },
  {
   "cell_type": "code",
   "execution_count": 15,
   "metadata": {
    "collapsed": true
   },
   "outputs": [],
   "source": [
    "# load the data\n",
    "def load_data(csvname):\n",
    "    data = np.asarray(pd.read_csv(csvname,header = None))\n",
    "    x = data[:,0]\n",
    "    x.shape = (np.size(x),1)\n",
    "    temp = np.ones((np.size(x),1))\n",
    "    X = np.concatenate((temp,x),1)\n",
    "    y = data[:,1]\n",
    "    y = y/y.max()\n",
    "    y.shape = (np.size(y),1)\n",
    "    return X,y"
   ]
  },
  {
   "cell_type": "code",
   "execution_count": 16,
   "metadata": {
    "collapsed": true
   },
   "outputs": [],
   "source": [
    "### TODO: YOUR CODE GOES HERE - COMPLETE THE GRADIENT DESCENT FUNCTION ###\n",
    "# run gradient descent\n",
    "def gradient_descent(X,y,w0,lam):\n",
    "    w_path = []                 # container for weights learned at each iteration\n",
    "    cost_path = []              # container for associated objective values at each iteration\n",
    "    w_path.append(w0)\n",
    "    cost = compute_cost(w0)\n",
    "    cost_path.append(cost)\n",
    "    w = w0\n",
    "\n",
    "    # start gradient descent loop\n",
    "    max_its = 5000\n",
    "    alpha = 10**(-2)\n",
    "    for k in range(max_its):\n",
    "        # compute gradient\n",
    "        grad=np.zeros((2,1))\n",
    "        \n",
    "        for i in range(len(X)):\n",
    "            x_new = np.array(X[i])\n",
    "            x_new.shape = (1,2)\n",
    "            \n",
    "            y_new = np.array(y[i])\n",
    "            y_new.shape = (1,1)\n",
    "            \n",
    "            sig = sigmoid(dot(x_new.reshape(2,1).T, w))\n",
    "                  \n",
    "            grad += 2*(sig - y_new)*sig*(1 - sig)*x_new.reshape(2,1) \n",
    "            \n",
    "        w_new = np.zeros((2,1))\n",
    "        w_new[1] = w[1]\n",
    "        grad = grad + 2*lam*w_new\n",
    "\n",
    "        # take gradient step\n",
    "        w = w - alpha*grad\n",
    "\n",
    "        # update path containers\n",
    "        w_path.append(w)\n",
    "        cost = compute_cost(w)\n",
    "        cost_path.append(cost)\n",
    "\n",
    "    # reshape containers for use in plotting in 3d\n",
    "    w_path = np.asarray(w_path)\n",
    "    w_path.shape = (np.shape(w_path)[0],np.shape(w_path)[1])\n",
    "    return w_path,cost_path\n",
    "\n",
    "# calculate the cost value for a given input weight w\n",
    "def compute_cost(w):\n",
    "    temp = 1/(1 + my_exp(-np.dot(X,w))) - y\n",
    "    temp = np.dot(temp.T,temp)\n",
    "    return temp[0][0]\n",
    "\n",
    "# avoid overflow when using exp - just cutoff after arguments get too large/small\n",
    "def my_exp(u):\n",
    "    s = np.argwhere(u > 100)\n",
    "    t = np.argwhere(u < -100)\n",
    "    u[s] = 0\n",
    "    u[t] = 0\n",
    "    u = np.exp(u)\n",
    "    u[t] = 1\n",
    "    return u"
   ]
  },
  {
   "cell_type": "code",
   "execution_count": 17,
   "metadata": {
    "collapsed": true
   },
   "outputs": [],
   "source": [
    "# used by plot_logistic_surface to make objective surface of logistic regression cost function\n",
    "def add_layer(a,b,c):\n",
    "    a.shape = (2,1)\n",
    "    b.shape = (1,1)\n",
    "    z = my_exp(-np.dot(c,a))\n",
    "    z = 1/(1 + z) - b\n",
    "    z = z**2\n",
    "    return z\n",
    "\n",
    "# plot fit to data and corresponding gradient descent path onto the logistic regression objective surface\n",
    "def show_fit(w_path,ax,col):\n",
    "    # plot solution of gradient descent fit to original data\n",
    "    s = np.linspace(0,25,100)\n",
    "    t = 1/(1 + my_exp(-(w_path[-1,0] + w_path[-1,1]*s)))\n",
    "    ax.plot(s,t,color = col)\n",
    "\n",
    "# plot gradient descent paths on cost surface\n",
    "def show_paths(w_path,cost_path,ax,col):           \n",
    "    # plot grad descent path onto surface\n",
    "    ax.plot(w_path[:,0],w_path[:,1],cost_path,color = col,linewidth = 5)   # add a little to output path so its visible on top of the surface plot\n",
    "    \n",
    "# plot logistic regression surface\n",
    "def plot_surface(ax,lam):\n",
    "    # plot logistic regression surface\n",
    "    r = np.linspace(-3,3,100)\n",
    "    s,t = np.meshgrid(r, r)\n",
    "    s = np.reshape(s,(np.size(s),1))\n",
    "    t = np.reshape(t,(np.size(t),1))\n",
    "    h = np.concatenate((s,t),1)\n",
    "\n",
    "    # build 3d surface\n",
    "    surf = np.zeros((np.size(s),1))\n",
    "    max_its = np.size(y)\n",
    "    for i in range(0,max_its):\n",
    "        surf = surf + add_layer(X[i,:],y[i],h)\n",
    "    surf = surf + lam*t**2\n",
    "\n",
    "    s = np.reshape(s,(100,100))\n",
    "    t = np.reshape(t,(100,100))\n",
    "    surf = np.reshape(surf,(100,100))\n",
    "    \n",
    "    # plot 3d surface\n",
    "    ax.plot_surface(s,t,surf,cmap = 'jet')\n",
    "    ax.azim = 175\n",
    "    ax.elev = 20\n",
    "    \n",
    "# plot points\n",
    "def plot_points(X,y,ax):\n",
    "    ax.plot(X[:,1],y,'ko')"
   ]
  },
  {
   "cell_type": "code",
   "execution_count": 18,
   "metadata": {},
   "outputs": [
    {
     "data": {
      "image/png": "[encoded data removed]",
      "text/plain": [
       "<matplotlib.figure.Figure at 0x113d3bda0>"
      ]
     },
     "metadata": {},
     "output_type": "display_data"
    }
   ],
   "source": [
    "# load dataset\n",
    "X,y = load_data('bacteria_data.csv') # load in data\n",
    "\n",
    "# initialize figure, plot data, and dress up panels with axes labels etc.,\n",
    "fig = plt.figure(facecolor = 'white',figsize = (8,3))\n",
    "ax1 = fig.add_subplot(121)\n",
    "ax1.set_xlim(min(X[:,1])-0.5, max(X[:,1])+0.5)\n",
    "ax1.set_ylim(min(y)-0.1,max(y)+0.1)\n",
    "ax1.axis('off')\n",
    "\n",
    "ax2 = fig.add_subplot(122, projection='3d')\n",
    "ax2.xaxis.set_rotate_label(False)\n",
    "ax2.yaxis.set_rotate_label(False)\n",
    "ax2.zaxis.set_rotate_label(False)\n",
    "ax2.get_xaxis().set_ticks([-3,-1,1,3])\n",
    "ax2.get_yaxis().set_ticks([-3,-1,1,3])\n",
    "# ax2.axis('off')\n",
    "\n",
    "# define regularizer parameter\n",
    "lam = 10**-1\n",
    "\n",
    "### run gradient descent with first initial point\n",
    "w0 = np.array([0,2])\n",
    "w0.shape = (2,1)\n",
    "w_path, cost_path = gradient_descent(X,y,w0,lam)\n",
    "\n",
    "# plot points\n",
    "plot_points(X,y,ax1)\n",
    "\n",
    "# plot fit to data and path on objective surface\n",
    "show_fit(w_path,ax1,'m')\n",
    "show_paths(w_path,cost_path,ax2,'m')\n",
    "\n",
    "### run gradient descent with first initial point\n",
    "w0 = np.array([0,-2])\n",
    "w0.shape = (2,1)\n",
    "w_path, cost_path = gradient_descent(X,y,w0,lam)\n",
    "\n",
    "# plot fit to data and path on objective surface\n",
    "show_fit(w_path,ax1,'c')\n",
    "show_paths(w_path,cost_path,ax2,'c')\n",
    "plot_surface(ax2,lam)\n",
    "plt.show()"
   ]
  },
  {
   "cell_type": "code",
   "execution_count": null,
   "metadata": {
    "collapsed": true
   },
   "outputs": [],
   "source": []
  },
  {
   "cell_type": "code",
   "execution_count": null,
   "metadata": {
    "collapsed": true
   },
   "outputs": [],
   "source": []
  },
  {
   "cell_type": "code",
   "execution_count": null,
   "metadata": {
    "collapsed": true
   },
   "outputs": [],
   "source": []
  }
 ],
 "metadata": {
  "kernelspec": {
   "display_name": "Python 3",
   "language": "python",
   "name": "python3"
  },
  "language_info": {
   "codemirror_mode": {
    "name": "ipython",
    "version": 3
   },
   "file_extension": ".py",
   "mimetype": "text/x-python",
   "name": "python",
   "nbconvert_exporter": "python",
   "pygments_lexer": "ipython3",
   "version": "3.6.3"
  }
 },
 "nbformat": 4,
 "nbformat_minor": 2
}
