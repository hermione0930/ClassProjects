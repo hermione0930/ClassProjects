{
 "cells": [
  {
   "cell_type": "code",
   "execution_count": 9,
   "metadata": {
    "collapsed": true
   },
   "outputs": [],
   "source": [
    "import numpy as np\n",
    "import matplotlib.pyplot as plt\n",
    "import pandas as pd\n",
    "from pylab import *"
   ]
  },
  {
   "cell_type": "code",
   "execution_count": 10,
   "metadata": {},
   "outputs": [],
   "source": [
    "# import the dataset\n",
    "data = np.asarray(pd.read_csv('student_debt.csv',header = None))\n",
    "x = data[:,0]\n",
    "x.shape = (len(x),1)\n",
    "y = data[:,1]\n",
    "y.shape = (len(y),1)\n",
    "\n",
    "# pad input with ones\n",
    "o = np.ones((len(x),1))\n",
    "x_new = np.concatenate((o,x),axis = 1)\n",
    "\n",
    "# solve linear system of equations for regression fit\n",
    "def linear_regression(x,y):\n",
    "    A = np.array([0.,0.,0.,0.])\n",
    "    A.shape = (2,2)\n",
    "    b = np.array([0.,0.])\n",
    "    b.shape = (2,1)\n",
    "    for i in x_new:\n",
    "        A += dot(i.reshape(2,1),i.reshape(2,1).T)\n",
    "    A_inv = np.linalg.inv(A)\n",
    "        \n",
    "    for i in range(len(x_new)):\n",
    "        b += y[i].reshape(1,1) * x_new[i].reshape(2,1)\n",
    "        \n",
    "    w = dot(A_inv,b)    \n",
    "    return w \n",
    "\n",
    "w=linear_regression(x,y)"
   ]
  },
  {
   "cell_type": "code",
   "execution_count": 11,
   "metadata": {},
   "outputs": [
    {
     "name": "stdout",
     "output_type": "stream",
     "text": [
      "if this linear trend continues there will be 3.936010564207436 trillion dollars in student debt in 2050!\n"
     ]
    },
    {
     "data": {
      "image/png": "[encoded data removed]",
      "text/plain": [
       "<Figure size 432x288 with 1 Axes>"
      ]
     },
     "metadata": {},
     "output_type": "display_data"
    }
   ],
   "source": [
    "# print out predicted amount of student debt in 2050\n",
    "debt_in_2050 = w[0] + w[1]*2050\n",
    "print ('if this linear trend continues there will be ' + str(debt_in_2050[0]) + ' trillion dollars in student debt in 2050!')\n",
    "\n",
    "# plot data with linear fit - this is optional\n",
    "s = np.linspace(np.min(x),np.max(x))\n",
    "t = w[0] + w[1]*s\n",
    "plt.plot(s,t,linewidth = 3,color = 'm')\n",
    "plt.scatter(x,y,linewidth = 2)\n",
    "plt.xlabel('time')\n",
    "plt.ylabel('debt in trillions of dollars')\n",
    "plt.show()"
   ]
  },
  {
   "cell_type": "code",
   "execution_count": null,
   "metadata": {
    "collapsed": true
   },
   "outputs": [],
   "source": []
  }
 ],
 "metadata": {
  "kernelspec": {
   "display_name": "Python 3",
   "language": "python",
   "name": "python3"
  },
  "language_info": {
   "codemirror_mode": {
    "name": "ipython",
    "version": 3
   },
   "file_extension": ".py",
   "mimetype": "text/x-python",
   "name": "python",
   "nbconvert_exporter": "python",
   "pygments_lexer": "ipython3",
   "version": "3.6.3"
  }
 },
 "nbformat": 4,
 "nbformat_minor": 2
}
